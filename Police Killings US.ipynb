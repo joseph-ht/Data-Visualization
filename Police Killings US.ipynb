{
 "cells": [
  {
   "cell_type": "markdown",
   "metadata": {
    "id": "xSwVOspA2Zin"
   },
   "source": [
    "# WITH PANDAS AND MATPLOTLIB"
   ]
  },
  {
   "cell_type": "code",
   "execution_count": 1,
   "metadata": {
    "_cell_guid": "5fdcd462-5466-40f5-9992-dc31a9a174f2",
    "_uuid": "dab5021d92c7210270cec270470e4ae179a1de01",
    "id": "22qiZVq32Zir"
   },
   "outputs": [],
   "source": [
    "import numpy as np \n",
    "import pandas as pd\n",
    "import seaborn as sns\n",
    "import matplotlib.pyplot as plt\n",
    "from collections import Counter\n",
    "import warnings\n",
    "warnings.filterwarnings('ignore') "
   ]
  },
  {
   "cell_type": "code",
   "execution_count": 2,
   "metadata": {
    "_cell_guid": "abb0685f-f844-43f8-84c0-4cd54361c7bf",
    "_uuid": "9c06ed7c41db79ae9d940f2d52aeff23621b3037",
    "id": "NYz5lAPp2Ziu"
   },
   "outputs": [
    {
     "name": "stdout",
     "output_type": "stream",
     "text": [
      "<class 'pandas.core.frame.DataFrame'>\n",
      "RangeIndex: 2535 entries, 0 to 2534\n",
      "Data columns (total 14 columns):\n",
      " #   Column                   Non-Null Count  Dtype  \n",
      "---  ------                   --------------  -----  \n",
      " 0   id                       2535 non-null   int64  \n",
      " 1   name                     2535 non-null   object \n",
      " 2   date                     2535 non-null   object \n",
      " 3   manner_of_death          2535 non-null   object \n",
      " 4   armed                    2526 non-null   object \n",
      " 5   age                      2458 non-null   float64\n",
      " 6   gender                   2535 non-null   object \n",
      " 7   race                     2340 non-null   object \n",
      " 8   city                     2535 non-null   object \n",
      " 9   state                    2535 non-null   object \n",
      " 10  signs_of_mental_illness  2535 non-null   bool   \n",
      " 11  threat_level             2535 non-null   object \n",
      " 12  flee                     2470 non-null   object \n",
      " 13  body_camera              2535 non-null   bool   \n",
      "dtypes: bool(2), float64(1), int64(1), object(10)\n",
      "memory usage: 242.7+ KB\n"
     ]
    }
   ],
   "source": [
    "pk=pd.read_csv('PoliceKillingsUS.csv', encoding='windows-1252')\n",
    "pk.info()"
   ]
  },
  {
   "cell_type": "markdown",
   "metadata": {
    "id": "wMFloMjW2Zi8"
   },
   "source": [
    "## 1: Plot number of people by gender"
   ]
  },
  {
   "cell_type": "code",
   "execution_count": 3,
   "metadata": {
    "colab": {
     "base_uri": "https://localhost:8080/",
     "height": 307
    },
    "executionInfo": {
     "elapsed": 12,
     "status": "ok",
     "timestamp": 1622926983505,
     "user": {
      "displayName": "Thomas Rico",
      "photoUrl": "",
      "userId": "03459133432310094050"
     },
     "user_tz": -180
    },
    "id": "g73Ix7402Zi9",
    "outputId": "3cc46e86-dfdd-46ef-b738-e1f0f1dd6d82"
   },
   "outputs": [
    {
     "data": {
      "text/html": [
       "<div>\n",
       "<style scoped>\n",
       "    .dataframe tbody tr th:only-of-type {\n",
       "        vertical-align: middle;\n",
       "    }\n",
       "\n",
       "    .dataframe tbody tr th {\n",
       "        vertical-align: top;\n",
       "    }\n",
       "\n",
       "    .dataframe thead th {\n",
       "        text-align: right;\n",
       "    }\n",
       "</style>\n",
       "<table border=\"1\" class=\"dataframe\">\n",
       "  <thead>\n",
       "    <tr style=\"text-align: right;\">\n",
       "      <th></th>\n",
       "      <th>id</th>\n",
       "      <th>name</th>\n",
       "      <th>date</th>\n",
       "      <th>manner_of_death</th>\n",
       "      <th>armed</th>\n",
       "      <th>age</th>\n",
       "      <th>gender</th>\n",
       "      <th>race</th>\n",
       "      <th>city</th>\n",
       "      <th>state</th>\n",
       "      <th>signs_of_mental_illness</th>\n",
       "      <th>threat_level</th>\n",
       "      <th>flee</th>\n",
       "      <th>body_camera</th>\n",
       "    </tr>\n",
       "  </thead>\n",
       "  <tbody>\n",
       "    <tr>\n",
       "      <th>2530</th>\n",
       "      <td>2822</td>\n",
       "      <td>Rodney E. Jacobs</td>\n",
       "      <td>28/07/17</td>\n",
       "      <td>shot</td>\n",
       "      <td>gun</td>\n",
       "      <td>31.0</td>\n",
       "      <td>M</td>\n",
       "      <td>NaN</td>\n",
       "      <td>Kansas City</td>\n",
       "      <td>MO</td>\n",
       "      <td>False</td>\n",
       "      <td>attack</td>\n",
       "      <td>Not fleeing</td>\n",
       "      <td>False</td>\n",
       "    </tr>\n",
       "    <tr>\n",
       "      <th>2531</th>\n",
       "      <td>2813</td>\n",
       "      <td>TK TK</td>\n",
       "      <td>28/07/17</td>\n",
       "      <td>shot</td>\n",
       "      <td>vehicle</td>\n",
       "      <td>NaN</td>\n",
       "      <td>M</td>\n",
       "      <td>NaN</td>\n",
       "      <td>Albuquerque</td>\n",
       "      <td>NM</td>\n",
       "      <td>False</td>\n",
       "      <td>attack</td>\n",
       "      <td>Car</td>\n",
       "      <td>False</td>\n",
       "    </tr>\n",
       "    <tr>\n",
       "      <th>2532</th>\n",
       "      <td>2818</td>\n",
       "      <td>Dennis W. Robinson</td>\n",
       "      <td>29/07/17</td>\n",
       "      <td>shot</td>\n",
       "      <td>gun</td>\n",
       "      <td>48.0</td>\n",
       "      <td>M</td>\n",
       "      <td>NaN</td>\n",
       "      <td>Melba</td>\n",
       "      <td>ID</td>\n",
       "      <td>False</td>\n",
       "      <td>attack</td>\n",
       "      <td>Car</td>\n",
       "      <td>False</td>\n",
       "    </tr>\n",
       "    <tr>\n",
       "      <th>2533</th>\n",
       "      <td>2817</td>\n",
       "      <td>Isaiah Tucker</td>\n",
       "      <td>31/07/17</td>\n",
       "      <td>shot</td>\n",
       "      <td>vehicle</td>\n",
       "      <td>28.0</td>\n",
       "      <td>M</td>\n",
       "      <td>B</td>\n",
       "      <td>Oshkosh</td>\n",
       "      <td>WI</td>\n",
       "      <td>False</td>\n",
       "      <td>attack</td>\n",
       "      <td>Car</td>\n",
       "      <td>True</td>\n",
       "    </tr>\n",
       "    <tr>\n",
       "      <th>2534</th>\n",
       "      <td>2815</td>\n",
       "      <td>Dwayne Jeune</td>\n",
       "      <td>31/07/17</td>\n",
       "      <td>shot</td>\n",
       "      <td>knife</td>\n",
       "      <td>32.0</td>\n",
       "      <td>M</td>\n",
       "      <td>B</td>\n",
       "      <td>Brooklyn</td>\n",
       "      <td>NY</td>\n",
       "      <td>True</td>\n",
       "      <td>attack</td>\n",
       "      <td>Not fleeing</td>\n",
       "      <td>False</td>\n",
       "    </tr>\n",
       "  </tbody>\n",
       "</table>\n",
       "</div>"
      ],
      "text/plain": [
       "        id                name      date manner_of_death    armed   age  \\\n",
       "2530  2822    Rodney E. Jacobs  28/07/17            shot      gun  31.0   \n",
       "2531  2813               TK TK  28/07/17            shot  vehicle   NaN   \n",
       "2532  2818  Dennis W. Robinson  29/07/17            shot      gun  48.0   \n",
       "2533  2817       Isaiah Tucker  31/07/17            shot  vehicle  28.0   \n",
       "2534  2815        Dwayne Jeune  31/07/17            shot    knife  32.0   \n",
       "\n",
       "     gender race         city state  signs_of_mental_illness threat_level  \\\n",
       "2530      M  NaN  Kansas City    MO                    False       attack   \n",
       "2531      M  NaN  Albuquerque    NM                    False       attack   \n",
       "2532      M  NaN        Melba    ID                    False       attack   \n",
       "2533      M    B      Oshkosh    WI                    False       attack   \n",
       "2534      M    B     Brooklyn    NY                     True       attack   \n",
       "\n",
       "             flee  body_camera  \n",
       "2530  Not fleeing        False  \n",
       "2531          Car        False  \n",
       "2532          Car        False  \n",
       "2533          Car         True  \n",
       "2534  Not fleeing        False  "
      ]
     },
     "execution_count": 3,
     "metadata": {},
     "output_type": "execute_result"
    }
   ],
   "source": [
    "pk.tail()"
   ]
  },
  {
   "cell_type": "code",
   "execution_count": 260,
   "metadata": {},
   "outputs": [
    {
     "data": {
      "text/html": [
       "<div>\n",
       "<style scoped>\n",
       "    .dataframe tbody tr th:only-of-type {\n",
       "        vertical-align: middle;\n",
       "    }\n",
       "\n",
       "    .dataframe tbody tr th {\n",
       "        vertical-align: top;\n",
       "    }\n",
       "\n",
       "    .dataframe thead th {\n",
       "        text-align: right;\n",
       "    }\n",
       "</style>\n",
       "<table border=\"1\" class=\"dataframe\">\n",
       "  <thead>\n",
       "    <tr style=\"text-align: right;\">\n",
       "      <th></th>\n",
       "      <th>gender</th>\n",
       "    </tr>\n",
       "  </thead>\n",
       "  <tbody>\n",
       "    <tr>\n",
       "      <th>M</th>\n",
       "      <td>2428</td>\n",
       "    </tr>\n",
       "    <tr>\n",
       "      <th>F</th>\n",
       "      <td>107</td>\n",
       "    </tr>\n",
       "  </tbody>\n",
       "</table>\n",
       "</div>"
      ],
      "text/plain": [
       "   gender\n",
       "M    2428\n",
       "F     107"
      ]
     },
     "execution_count": 260,
     "metadata": {},
     "output_type": "execute_result"
    }
   ],
   "source": [
    "Gender = pd.DataFrame(pk['gender'].value_counts())\n",
    "Gender"
   ]
  },
  {
   "cell_type": "code",
   "execution_count": 261,
   "metadata": {},
   "outputs": [
    {
     "data": {
      "image/png": "[encoded data removed]",
      "text/plain": [
       "<Figure size 432x288 with 1 Axes>"
      ]
     },
     "metadata": {
      "needs_background": "light"
     },
     "output_type": "display_data"
    }
   ],
   "source": [
    "Gender.plot(kind='bar', title='Gender Distribution')\n",
    "\n",
    "for index, value in enumerate(Gender.gender): \n",
    "    plt.text(index, value, str(value))\n",
    "    \n",
    "plt.show()"
   ]
  },
  {
   "cell_type": "code",
   "execution_count": 262,
   "metadata": {},
   "outputs": [
    {
     "data": {
      "image/png": "[encoded data removed]",
      "text/plain": [
       "<Figure size 432x288 with 1 Axes>"
      ]
     },
     "metadata": {
      "needs_background": "light"
     },
     "output_type": "display_data"
    }
   ],
   "source": [
    "# object oriented method\n",
    "fig, ax = plt.subplots()\n",
    "\n",
    "pk.gender.value_counts().plot(kind='bar', ax=ax)\n",
    "\n",
    "ax.set_title('Gender Distribution', fontsize = 15)\n",
    "\n",
    "for p in ax.patches:\n",
    "    ax.annotate(p.get_height(), (p.get_x()+0.2, p.get_height()+20))\n",
    "    \n",
    "plt.show()"
   ]
  },
  {
   "cell_type": "code",
   "execution_count": 242,
   "metadata": {},
   "outputs": [
    {
     "data": {
      "text/plain": [
       "[<matplotlib.patches.Rectangle at 0x7fc328d175e0>,\n",
       " <matplotlib.patches.Rectangle at 0x7fc328d172e0>]"
      ]
     },
     "execution_count": 242,
     "metadata": {},
     "output_type": "execute_result"
    }
   ],
   "source": [
    "ax.patches"
   ]
  },
  {
   "cell_type": "code",
   "execution_count": 263,
   "metadata": {
    "scrolled": true
   },
   "outputs": [
    {
     "data": {
      "image/png": "[encoded data removed]",
      "text/plain": [
       "<Figure size 432x288 with 1 Axes>"
      ]
     },
     "metadata": {
      "needs_background": "light"
     },
     "output_type": "display_data"
    }
   ],
   "source": [
    "plt.bar(Gender.index, Gender.gender, width=0.3)\n",
    "plt.title('Gender Distribution', fontsize=15)\n",
    "\n",
    "for index, value in enumerate(Gender.gender): \n",
    "    plt.text(index, value, str(value))\n",
    "\n",
    "plt.show()"
   ]
  },
  {
   "cell_type": "markdown",
   "metadata": {
    "id": "3CDiN8a22Zi9"
   },
   "source": [
    "## 2: Plot 7 most common kill weapons"
   ]
  },
  {
   "cell_type": "code",
   "execution_count": 264,
   "metadata": {
    "colab": {
     "base_uri": "https://localhost:8080/"
    },
    "executionInfo": {
     "elapsed": 14,
     "status": "ok",
     "timestamp": 1622926983974,
     "user": {
      "displayName": "Thomas Rico",
      "photoUrl": "",
      "userId": "03459133432310094050"
     },
     "user_tz": -180
    },
    "id": "BAU2H77b2Zi9",
    "outputId": "a893d160-7464-448d-de16-6e4399c36a75",
    "scrolled": false
   },
   "outputs": [
    {
     "data": {
      "text/plain": [
       "gun             1398\n",
       "knife            373\n",
       "vehicle          177\n",
       "unarmed          171\n",
       "undetermined     117\n",
       "toy weapon       104\n",
       "machete           18\n",
       "Name: armed, dtype: int64"
      ]
     },
     "execution_count": 264,
     "metadata": {},
     "output_type": "execute_result"
    }
   ],
   "source": [
    "pk.armed.value_counts().head(7)"
   ]
  },
  {
   "cell_type": "code",
   "execution_count": 265,
   "metadata": {},
   "outputs": [
    {
     "data": {
      "text/html": [
       "<div>\n",
       "<style scoped>\n",
       "    .dataframe tbody tr th:only-of-type {\n",
       "        vertical-align: middle;\n",
       "    }\n",
       "\n",
       "    .dataframe tbody tr th {\n",
       "        vertical-align: top;\n",
       "    }\n",
       "\n",
       "    .dataframe thead th {\n",
       "        text-align: right;\n",
       "    }\n",
       "</style>\n",
       "<table border=\"1\" class=\"dataframe\">\n",
       "  <thead>\n",
       "    <tr style=\"text-align: right;\">\n",
       "      <th></th>\n",
       "      <th>armed</th>\n",
       "    </tr>\n",
       "  </thead>\n",
       "  <tbody>\n",
       "    <tr>\n",
       "      <th>gun</th>\n",
       "      <td>1398</td>\n",
       "    </tr>\n",
       "    <tr>\n",
       "      <th>knife</th>\n",
       "      <td>373</td>\n",
       "    </tr>\n",
       "    <tr>\n",
       "      <th>vehicle</th>\n",
       "      <td>177</td>\n",
       "    </tr>\n",
       "    <tr>\n",
       "      <th>unarmed</th>\n",
       "      <td>171</td>\n",
       "    </tr>\n",
       "    <tr>\n",
       "      <th>undetermined</th>\n",
       "      <td>117</td>\n",
       "    </tr>\n",
       "    <tr>\n",
       "      <th>toy weapon</th>\n",
       "      <td>104</td>\n",
       "    </tr>\n",
       "    <tr>\n",
       "      <th>machete</th>\n",
       "      <td>18</td>\n",
       "    </tr>\n",
       "  </tbody>\n",
       "</table>\n",
       "</div>"
      ],
      "text/plain": [
       "              armed\n",
       "gun            1398\n",
       "knife           373\n",
       "vehicle         177\n",
       "unarmed         171\n",
       "undetermined    117\n",
       "toy weapon      104\n",
       "machete          18"
      ]
     },
     "execution_count": 265,
     "metadata": {},
     "output_type": "execute_result"
    }
   ],
   "source": [
    "common_kill = pd.DataFrame(pk.armed.value_counts().head(7))\n",
    "common_kill"
   ]
  },
  {
   "cell_type": "code",
   "execution_count": 266,
   "metadata": {
    "scrolled": true
   },
   "outputs": [
    {
     "data": {
      "image/png": "[encoded data removed]",
      "text/plain": [
       "<Figure size 432x288 with 1 Axes>"
      ]
     },
     "metadata": {
      "needs_background": "light"
     },
     "output_type": "display_data"
    }
   ],
   "source": [
    "# with pandas\n",
    "common_kill.plot.bar(title = '7 most common kill weapons')\n",
    "\n",
    "for index, value in enumerate(common_kill.armed): \n",
    "    plt.text(index, value, str(value), ha='center')\n",
    "    \n",
    "plt.show()\n",
    "\n",
    "#Another solution :\n",
    "#common_weapons = pd.DataFrame(pk.armed.value_counts().head(7))\n",
    "#fig, ax = plt.subplots(figsize=(8,5))\n",
    "#common_weapons.plot(kind='bar',ax=ax)\n",
    "#ax.set_xticklabels(common_weapons.index, rotation=45)\n",
    "#for p in ax.patches:\n",
    "#    ax.annotate((p.get_height()), (p.get_x()+0.1, p.get_height()+10));"
   ]
  },
  {
   "cell_type": "code",
   "execution_count": 267,
   "metadata": {},
   "outputs": [
    {
     "data": {
      "image/png": "[encoded data removed]",
      "text/plain": [
       "<Figure size 432x288 with 1 Axes>"
      ]
     },
     "metadata": {
      "needs_background": "light"
     },
     "output_type": "display_data"
    }
   ],
   "source": [
    "# with matplotlib\n",
    "bars = plt.bar(common_kill.index, common_kill.armed)\n",
    "\n",
    "for bar in bars:\n",
    "    yval = bar.get_height()\n",
    "    plt.text(bar.get_x(), yval + 10, yval, ha='left')\n",
    "\n",
    "plt.xticks(rotation=45, ha='right')\n",
    "\n",
    "plt.title('7 most common kill weapons', fontsize=15)\n",
    "plt.show()\n",
    "\n",
    "#Another solution :\n",
    "#common_weapons = pd.DataFrame(pk.armed.value_counts().head(7))\n",
    "#fig, ax = plt.subplots(figsize=(8,5))\n",
    "#ax.bar(x = common_weapons.index, height=common_weapons.values)\n",
    "#ax.set_xticklabels(common_weapons.index, rotation=45)\n",
    "#for p in ax.patches:\n",
    "#    ax.annotate((p.get_height()), (p.get_x()+0.1, p.get_height()+10));"
   ]
  },
  {
   "cell_type": "markdown",
   "metadata": {
    "id": "GqXH5Xag2Zi-"
   },
   "source": [
    "## 3: Plot number of age of killed people under two groups : Under 25 and Above 25"
   ]
  },
  {
   "cell_type": "code",
   "execution_count": 5,
   "metadata": {},
   "outputs": [
    {
     "data": {
      "text/plain": [
       "0    above25\n",
       "1    above25\n",
       "2    below25\n",
       "3    above25\n",
       "4    above25\n",
       "Name: age_cat, dtype: object"
      ]
     },
     "execution_count": 5,
     "metadata": {},
     "output_type": "execute_result"
    }
   ],
   "source": [
    "pk['age_cat'] = pk['age'].apply(lambda x: 'above25' if x>25 else ('below25' if x<=25 else 'others'))\n",
    "pk.age_cat.head()"
   ]
  },
  {
   "cell_type": "code",
   "execution_count": 269,
   "metadata": {},
   "outputs": [
    {
     "data": {
      "text/plain": [
       "above25    1905\n",
       "below25     553\n",
       "others       77\n",
       "Name: age_cat, dtype: int64"
      ]
     },
     "execution_count": 269,
     "metadata": {},
     "output_type": "execute_result"
    }
   ],
   "source": [
    "pk.age_cat.value_counts()"
   ]
  },
  {
   "cell_type": "code",
   "execution_count": 270,
   "metadata": {},
   "outputs": [
    {
     "data": {
      "text/html": [
       "<div>\n",
       "<style scoped>\n",
       "    .dataframe tbody tr th:only-of-type {\n",
       "        vertical-align: middle;\n",
       "    }\n",
       "\n",
       "    .dataframe tbody tr th {\n",
       "        vertical-align: top;\n",
       "    }\n",
       "\n",
       "    .dataframe thead th {\n",
       "        text-align: right;\n",
       "    }\n",
       "</style>\n",
       "<table border=\"1\" class=\"dataframe\">\n",
       "  <thead>\n",
       "    <tr style=\"text-align: right;\">\n",
       "      <th></th>\n",
       "      <th>age_cat</th>\n",
       "    </tr>\n",
       "  </thead>\n",
       "  <tbody>\n",
       "    <tr>\n",
       "      <th>above25</th>\n",
       "      <td>1905</td>\n",
       "    </tr>\n",
       "    <tr>\n",
       "      <th>below25</th>\n",
       "      <td>553</td>\n",
       "    </tr>\n",
       "    <tr>\n",
       "      <th>others</th>\n",
       "      <td>77</td>\n",
       "    </tr>\n",
       "  </tbody>\n",
       "</table>\n",
       "</div>"
      ],
      "text/plain": [
       "         age_cat\n",
       "above25     1905\n",
       "below25      553\n",
       "others        77"
      ]
     },
     "execution_count": 270,
     "metadata": {},
     "output_type": "execute_result"
    }
   ],
   "source": [
    "age_cat = pd.DataFrame(pk.age_cat.value_counts())\n",
    "age_cat"
   ]
  },
  {
   "cell_type": "code",
   "execution_count": 271,
   "metadata": {},
   "outputs": [
    {
     "data": {
      "image/png": "[encoded data removed]",
      "text/plain": [
       "<Figure size 432x288 with 1 Axes>"
      ]
     },
     "metadata": {
      "needs_background": "light"
     },
     "output_type": "display_data"
    }
   ],
   "source": [
    "age_cat.plot(kind='bar')\n",
    "\n",
    "for index, value in enumerate(age_cat.age_cat): \n",
    "    plt.text(index, value, str(value), ha='center')\n",
    "\n",
    "plt.show()"
   ]
  },
  {
   "cell_type": "code",
   "execution_count": 272,
   "metadata": {
    "colab": {
     "base_uri": "https://localhost:8080/",
     "height": 302
    },
    "executionInfo": {
     "elapsed": 10,
     "status": "ok",
     "timestamp": 1622926985007,
     "user": {
      "displayName": "Thomas Rico",
      "photoUrl": "",
      "userId": "03459133432310094050"
     },
     "user_tz": -180
    },
    "id": "O5TT5DGG2Zi_",
    "outputId": "c052b208-6dbd-4f6e-c8a9-63df71c610ee",
    "scrolled": false
   },
   "outputs": [
    {
     "data": {
      "image/png": "[encoded data removed]",
      "text/plain": [
       "<Figure size 432x288 with 1 Axes>"
      ]
     },
     "metadata": {
      "needs_background": "light"
     },
     "output_type": "display_data"
    }
   ],
   "source": [
    "# with matplotlib\n",
    "age_cat = pk.age_cat.value_counts()\n",
    "fig, ax = plt.subplots()\n",
    "ax.bar(x = age_cat.index, height= age_cat.values)\n",
    "\n",
    "for p in ax.patches:\n",
    "    ax.annotate(round(p.get_height()), (p.get_x()+0.35, p.get_height()+10));\n",
    "    \n",
    "plt.show()"
   ]
  },
  {
   "cell_type": "markdown",
   "metadata": {
    "id": "SZ-wps772Zi_"
   },
   "source": [
    "## 4: Plot number of killed poeple by race"
   ]
  },
  {
   "cell_type": "code",
   "execution_count": 273,
   "metadata": {},
   "outputs": [
    {
     "data": {
      "text/plain": [
       "W    1201\n",
       "B     618\n",
       "H     423\n",
       "A      39\n",
       "N      31\n",
       "O      28\n",
       "Name: race, dtype: int64"
      ]
     },
     "execution_count": 273,
     "metadata": {},
     "output_type": "execute_result"
    }
   ],
   "source": [
    "pk.race.value_counts()"
   ]
  },
  {
   "cell_type": "code",
   "execution_count": 274,
   "metadata": {},
   "outputs": [
    {
     "data": {
      "image/png": "[encoded data removed]",
      "text/plain": [
       "<Figure size 432x288 with 1 Axes>"
      ]
     },
     "metadata": {
      "needs_background": "light"
     },
     "output_type": "display_data"
    }
   ],
   "source": [
    "pk.race.value_counts().plot.bar()\n",
    "plt.show()"
   ]
  },
  {
   "cell_type": "code",
   "execution_count": 275,
   "metadata": {
    "colab": {
     "base_uri": "https://localhost:8080/",
     "height": 283
    },
    "executionInfo": {
     "elapsed": 7,
     "status": "ok",
     "timestamp": 1622926985009,
     "user": {
      "displayName": "Thomas Rico",
      "photoUrl": "",
      "userId": "03459133432310094050"
     },
     "user_tz": -180
    },
    "id": "-q2lckGI2ZjA",
    "outputId": "aeed5936-fc89-4370-cdc2-1be0f9c5dcca"
   },
   "outputs": [
    {
     "data": {
      "image/png": "[encoded data removed]",
      "text/plain": [
       "<Figure size 432x288 with 1 Axes>"
      ]
     },
     "metadata": {
      "needs_background": "light"
     },
     "output_type": "display_data"
    }
   ],
   "source": [
    "race = pk.race.value_counts()\n",
    "\n",
    "fig, ax = plt.subplots()\n",
    "\n",
    "ax.bar(x=race.index, height=race.values)\n",
    "ax.set_title('Race of killed people',color = 'blue',fontsize=15);\n",
    "\n",
    "for p in ax.patches:\n",
    "    ax.annotate(p.get_height(), (p.get_x()+0.05, p.get_height()+10));"
   ]
  },
  {
   "cell_type": "markdown",
   "metadata": {
    "id": "9pGSRTxe-l5B"
   },
   "source": [
    "## 5: Killed People According to Races (Pie Chart)"
   ]
  },
  {
   "cell_type": "code",
   "execution_count": 276,
   "metadata": {
    "colab": {
     "base_uri": "https://localhost:8080/",
     "height": 307
    },
    "executionInfo": {
     "elapsed": 52,
     "status": "ok",
     "timestamp": 1622926985757,
     "user": {
      "displayName": "Thomas Rico",
      "photoUrl": "",
      "userId": "03459133432310094050"
     },
     "user_tz": -180
    },
    "id": "gq_OO4tB-l5E",
    "outputId": "0a45ca8f-7df9-4b85-d72f-8b0d4115561c"
   },
   "outputs": [
    {
     "data": {
      "text/html": [
       "<div>\n",
       "<style scoped>\n",
       "    .dataframe tbody tr th:only-of-type {\n",
       "        vertical-align: middle;\n",
       "    }\n",
       "\n",
       "    .dataframe tbody tr th {\n",
       "        vertical-align: top;\n",
       "    }\n",
       "\n",
       "    .dataframe thead th {\n",
       "        text-align: right;\n",
       "    }\n",
       "</style>\n",
       "<table border=\"1\" class=\"dataframe\">\n",
       "  <thead>\n",
       "    <tr style=\"text-align: right;\">\n",
       "      <th></th>\n",
       "      <th>id</th>\n",
       "      <th>name</th>\n",
       "      <th>date</th>\n",
       "      <th>manner_of_death</th>\n",
       "      <th>armed</th>\n",
       "      <th>age</th>\n",
       "      <th>gender</th>\n",
       "      <th>race</th>\n",
       "      <th>city</th>\n",
       "      <th>state</th>\n",
       "      <th>signs_of_mental_illness</th>\n",
       "      <th>threat_level</th>\n",
       "      <th>flee</th>\n",
       "      <th>body_camera</th>\n",
       "      <th>age_cat</th>\n",
       "    </tr>\n",
       "  </thead>\n",
       "  <tbody>\n",
       "    <tr>\n",
       "      <th>0</th>\n",
       "      <td>3</td>\n",
       "      <td>Tim Elliot</td>\n",
       "      <td>02/01/15</td>\n",
       "      <td>shot</td>\n",
       "      <td>gun</td>\n",
       "      <td>53.0</td>\n",
       "      <td>M</td>\n",
       "      <td>A</td>\n",
       "      <td>Shelton</td>\n",
       "      <td>WA</td>\n",
       "      <td>True</td>\n",
       "      <td>attack</td>\n",
       "      <td>Not fleeing</td>\n",
       "      <td>False</td>\n",
       "      <td>above25</td>\n",
       "    </tr>\n",
       "    <tr>\n",
       "      <th>1</th>\n",
       "      <td>4</td>\n",
       "      <td>Lewis Lee Lembke</td>\n",
       "      <td>02/01/15</td>\n",
       "      <td>shot</td>\n",
       "      <td>gun</td>\n",
       "      <td>47.0</td>\n",
       "      <td>M</td>\n",
       "      <td>W</td>\n",
       "      <td>Aloha</td>\n",
       "      <td>OR</td>\n",
       "      <td>False</td>\n",
       "      <td>attack</td>\n",
       "      <td>Not fleeing</td>\n",
       "      <td>False</td>\n",
       "      <td>above25</td>\n",
       "    </tr>\n",
       "    <tr>\n",
       "      <th>2</th>\n",
       "      <td>5</td>\n",
       "      <td>John Paul Quintero</td>\n",
       "      <td>03/01/15</td>\n",
       "      <td>shot and Tasered</td>\n",
       "      <td>unarmed</td>\n",
       "      <td>23.0</td>\n",
       "      <td>M</td>\n",
       "      <td>H</td>\n",
       "      <td>Wichita</td>\n",
       "      <td>KS</td>\n",
       "      <td>False</td>\n",
       "      <td>other</td>\n",
       "      <td>Not fleeing</td>\n",
       "      <td>False</td>\n",
       "      <td>below25</td>\n",
       "    </tr>\n",
       "    <tr>\n",
       "      <th>3</th>\n",
       "      <td>8</td>\n",
       "      <td>Matthew Hoffman</td>\n",
       "      <td>04/01/15</td>\n",
       "      <td>shot</td>\n",
       "      <td>toy weapon</td>\n",
       "      <td>32.0</td>\n",
       "      <td>M</td>\n",
       "      <td>W</td>\n",
       "      <td>San Francisco</td>\n",
       "      <td>CA</td>\n",
       "      <td>True</td>\n",
       "      <td>attack</td>\n",
       "      <td>Not fleeing</td>\n",
       "      <td>False</td>\n",
       "      <td>above25</td>\n",
       "    </tr>\n",
       "    <tr>\n",
       "      <th>4</th>\n",
       "      <td>9</td>\n",
       "      <td>Michael Rodriguez</td>\n",
       "      <td>04/01/15</td>\n",
       "      <td>shot</td>\n",
       "      <td>nail gun</td>\n",
       "      <td>39.0</td>\n",
       "      <td>M</td>\n",
       "      <td>H</td>\n",
       "      <td>Evans</td>\n",
       "      <td>CO</td>\n",
       "      <td>False</td>\n",
       "      <td>attack</td>\n",
       "      <td>Not fleeing</td>\n",
       "      <td>False</td>\n",
       "      <td>above25</td>\n",
       "    </tr>\n",
       "  </tbody>\n",
       "</table>\n",
       "</div>"
      ],
      "text/plain": [
       "   id                name      date   manner_of_death       armed   age  \\\n",
       "0   3          Tim Elliot  02/01/15              shot         gun  53.0   \n",
       "1   4    Lewis Lee Lembke  02/01/15              shot         gun  47.0   \n",
       "2   5  John Paul Quintero  03/01/15  shot and Tasered     unarmed  23.0   \n",
       "3   8     Matthew Hoffman  04/01/15              shot  toy weapon  32.0   \n",
       "4   9   Michael Rodriguez  04/01/15              shot    nail gun  39.0   \n",
       "\n",
       "  gender race           city state  signs_of_mental_illness threat_level  \\\n",
       "0      M    A        Shelton    WA                     True       attack   \n",
       "1      M    W          Aloha    OR                    False       attack   \n",
       "2      M    H        Wichita    KS                    False        other   \n",
       "3      M    W  San Francisco    CA                     True       attack   \n",
       "4      M    H          Evans    CO                    False       attack   \n",
       "\n",
       "          flee  body_camera  age_cat  \n",
       "0  Not fleeing        False  above25  \n",
       "1  Not fleeing        False  above25  \n",
       "2  Not fleeing        False  below25  \n",
       "3  Not fleeing        False  above25  \n",
       "4  Not fleeing        False  above25  "
      ]
     },
     "execution_count": 276,
     "metadata": {},
     "output_type": "execute_result"
    }
   ],
   "source": [
    "pk.head()"
   ]
  },
  {
   "cell_type": "code",
   "execution_count": 277,
   "metadata": {},
   "outputs": [
    {
     "data": {
      "text/plain": [
       "array(['A', 'W', 'H', 'B', 'O', nan, 'N'], dtype=object)"
      ]
     },
     "execution_count": 277,
     "metadata": {},
     "output_type": "execute_result"
    }
   ],
   "source": [
    "pk.race.unique()"
   ]
  },
  {
   "cell_type": "code",
   "execution_count": 278,
   "metadata": {
    "colab": {
     "base_uri": "https://localhost:8080/"
    },
    "executionInfo": {
     "elapsed": 49,
     "status": "ok",
     "timestamp": 1622926985758,
     "user": {
      "displayName": "Thomas Rico",
      "photoUrl": "",
      "userId": "03459133432310094050"
     },
     "user_tz": -180
    },
    "id": "4lJAFvsx-l5F",
    "outputId": "014ec220-87cf-4b96-da5c-b0f600130869"
   },
   "outputs": [
    {
     "data": {
      "text/plain": [
       "W    1201\n",
       "B     618\n",
       "H     423\n",
       "A      39\n",
       "N      31\n",
       "O      28\n",
       "Name: race, dtype: int64"
      ]
     },
     "execution_count": 278,
     "metadata": {},
     "output_type": "execute_result"
    }
   ],
   "source": [
    "pk.race.value_counts()"
   ]
  },
  {
   "cell_type": "code",
   "execution_count": 279,
   "metadata": {},
   "outputs": [
    {
     "data": {
      "text/plain": [
       "195"
      ]
     },
     "execution_count": 279,
     "metadata": {},
     "output_type": "execute_result"
    }
   ],
   "source": [
    "pk.race.isnull().sum()"
   ]
  },
  {
   "cell_type": "markdown",
   "metadata": {
    "id": "VuWSIYCm-l5F"
   },
   "source": [
    "Problem: missing value on race column."
   ]
  },
  {
   "cell_type": "markdown",
   "metadata": {
    "id": "mmCQXFcg-l5G"
   },
   "source": [
    "**INSTRUCTION-1: Drop the all raws that contain missing value (dropna)**"
   ]
  },
  {
   "cell_type": "code",
   "execution_count": 280,
   "metadata": {},
   "outputs": [
    {
     "data": {
      "text/html": [
       "<div>\n",
       "<style scoped>\n",
       "    .dataframe tbody tr th:only-of-type {\n",
       "        vertical-align: middle;\n",
       "    }\n",
       "\n",
       "    .dataframe tbody tr th {\n",
       "        vertical-align: top;\n",
       "    }\n",
       "\n",
       "    .dataframe thead th {\n",
       "        text-align: right;\n",
       "    }\n",
       "</style>\n",
       "<table border=\"1\" class=\"dataframe\">\n",
       "  <thead>\n",
       "    <tr style=\"text-align: right;\">\n",
       "      <th></th>\n",
       "      <th>id</th>\n",
       "      <th>name</th>\n",
       "      <th>date</th>\n",
       "      <th>manner_of_death</th>\n",
       "      <th>armed</th>\n",
       "      <th>age</th>\n",
       "      <th>gender</th>\n",
       "      <th>race</th>\n",
       "      <th>city</th>\n",
       "      <th>state</th>\n",
       "      <th>signs_of_mental_illness</th>\n",
       "      <th>threat_level</th>\n",
       "      <th>flee</th>\n",
       "      <th>body_camera</th>\n",
       "      <th>age_cat</th>\n",
       "    </tr>\n",
       "  </thead>\n",
       "  <tbody>\n",
       "    <tr>\n",
       "      <th>0</th>\n",
       "      <td>3</td>\n",
       "      <td>Tim Elliot</td>\n",
       "      <td>02/01/15</td>\n",
       "      <td>shot</td>\n",
       "      <td>gun</td>\n",
       "      <td>53.0</td>\n",
       "      <td>M</td>\n",
       "      <td>A</td>\n",
       "      <td>Shelton</td>\n",
       "      <td>WA</td>\n",
       "      <td>True</td>\n",
       "      <td>attack</td>\n",
       "      <td>Not fleeing</td>\n",
       "      <td>False</td>\n",
       "      <td>above25</td>\n",
       "    </tr>\n",
       "    <tr>\n",
       "      <th>1</th>\n",
       "      <td>4</td>\n",
       "      <td>Lewis Lee Lembke</td>\n",
       "      <td>02/01/15</td>\n",
       "      <td>shot</td>\n",
       "      <td>gun</td>\n",
       "      <td>47.0</td>\n",
       "      <td>M</td>\n",
       "      <td>W</td>\n",
       "      <td>Aloha</td>\n",
       "      <td>OR</td>\n",
       "      <td>False</td>\n",
       "      <td>attack</td>\n",
       "      <td>Not fleeing</td>\n",
       "      <td>False</td>\n",
       "      <td>above25</td>\n",
       "    </tr>\n",
       "    <tr>\n",
       "      <th>2</th>\n",
       "      <td>5</td>\n",
       "      <td>John Paul Quintero</td>\n",
       "      <td>03/01/15</td>\n",
       "      <td>shot and Tasered</td>\n",
       "      <td>unarmed</td>\n",
       "      <td>23.0</td>\n",
       "      <td>M</td>\n",
       "      <td>H</td>\n",
       "      <td>Wichita</td>\n",
       "      <td>KS</td>\n",
       "      <td>False</td>\n",
       "      <td>other</td>\n",
       "      <td>Not fleeing</td>\n",
       "      <td>False</td>\n",
       "      <td>below25</td>\n",
       "    </tr>\n",
       "    <tr>\n",
       "      <th>3</th>\n",
       "      <td>8</td>\n",
       "      <td>Matthew Hoffman</td>\n",
       "      <td>04/01/15</td>\n",
       "      <td>shot</td>\n",
       "      <td>toy weapon</td>\n",
       "      <td>32.0</td>\n",
       "      <td>M</td>\n",
       "      <td>W</td>\n",
       "      <td>San Francisco</td>\n",
       "      <td>CA</td>\n",
       "      <td>True</td>\n",
       "      <td>attack</td>\n",
       "      <td>Not fleeing</td>\n",
       "      <td>False</td>\n",
       "      <td>above25</td>\n",
       "    </tr>\n",
       "    <tr>\n",
       "      <th>4</th>\n",
       "      <td>9</td>\n",
       "      <td>Michael Rodriguez</td>\n",
       "      <td>04/01/15</td>\n",
       "      <td>shot</td>\n",
       "      <td>nail gun</td>\n",
       "      <td>39.0</td>\n",
       "      <td>M</td>\n",
       "      <td>H</td>\n",
       "      <td>Evans</td>\n",
       "      <td>CO</td>\n",
       "      <td>False</td>\n",
       "      <td>attack</td>\n",
       "      <td>Not fleeing</td>\n",
       "      <td>False</td>\n",
       "      <td>above25</td>\n",
       "    </tr>\n",
       "  </tbody>\n",
       "</table>\n",
       "</div>"
      ],
      "text/plain": [
       "   id                name      date   manner_of_death       armed   age  \\\n",
       "0   3          Tim Elliot  02/01/15              shot         gun  53.0   \n",
       "1   4    Lewis Lee Lembke  02/01/15              shot         gun  47.0   \n",
       "2   5  John Paul Quintero  03/01/15  shot and Tasered     unarmed  23.0   \n",
       "3   8     Matthew Hoffman  04/01/15              shot  toy weapon  32.0   \n",
       "4   9   Michael Rodriguez  04/01/15              shot    nail gun  39.0   \n",
       "\n",
       "  gender race           city state  signs_of_mental_illness threat_level  \\\n",
       "0      M    A        Shelton    WA                     True       attack   \n",
       "1      M    W          Aloha    OR                    False       attack   \n",
       "2      M    H        Wichita    KS                    False        other   \n",
       "3      M    W  San Francisco    CA                     True       attack   \n",
       "4      M    H          Evans    CO                    False       attack   \n",
       "\n",
       "          flee  body_camera  age_cat  \n",
       "0  Not fleeing        False  above25  \n",
       "1  Not fleeing        False  above25  \n",
       "2  Not fleeing        False  below25  \n",
       "3  Not fleeing        False  above25  \n",
       "4  Not fleeing        False  above25  "
      ]
     },
     "execution_count": 280,
     "metadata": {},
     "output_type": "execute_result"
    }
   ],
   "source": [
    "pk.head()"
   ]
  },
  {
   "cell_type": "code",
   "execution_count": 3,
   "metadata": {
    "id": "CzwSuxgQ-l5G",
    "scrolled": true
   },
   "outputs": [
    {
     "data": {
      "text/html": [
       "<div>\n",
       "<style scoped>\n",
       "    .dataframe tbody tr th:only-of-type {\n",
       "        vertical-align: middle;\n",
       "    }\n",
       "\n",
       "    .dataframe tbody tr th {\n",
       "        vertical-align: top;\n",
       "    }\n",
       "\n",
       "    .dataframe thead th {\n",
       "        text-align: right;\n",
       "    }\n",
       "</style>\n",
       "<table border=\"1\" class=\"dataframe\">\n",
       "  <thead>\n",
       "    <tr style=\"text-align: right;\">\n",
       "      <th></th>\n",
       "      <th>id</th>\n",
       "      <th>name</th>\n",
       "      <th>date</th>\n",
       "      <th>manner_of_death</th>\n",
       "      <th>armed</th>\n",
       "      <th>age</th>\n",
       "      <th>gender</th>\n",
       "      <th>race</th>\n",
       "      <th>city</th>\n",
       "      <th>state</th>\n",
       "      <th>signs_of_mental_illness</th>\n",
       "      <th>threat_level</th>\n",
       "      <th>flee</th>\n",
       "      <th>body_camera</th>\n",
       "    </tr>\n",
       "  </thead>\n",
       "  <tbody>\n",
       "    <tr>\n",
       "      <th>0</th>\n",
       "      <td>3</td>\n",
       "      <td>Tim Elliot</td>\n",
       "      <td>02/01/15</td>\n",
       "      <td>shot</td>\n",
       "      <td>gun</td>\n",
       "      <td>53.0</td>\n",
       "      <td>M</td>\n",
       "      <td>A</td>\n",
       "      <td>Shelton</td>\n",
       "      <td>WA</td>\n",
       "      <td>True</td>\n",
       "      <td>attack</td>\n",
       "      <td>Not fleeing</td>\n",
       "      <td>False</td>\n",
       "    </tr>\n",
       "    <tr>\n",
       "      <th>1</th>\n",
       "      <td>4</td>\n",
       "      <td>Lewis Lee Lembke</td>\n",
       "      <td>02/01/15</td>\n",
       "      <td>shot</td>\n",
       "      <td>gun</td>\n",
       "      <td>47.0</td>\n",
       "      <td>M</td>\n",
       "      <td>W</td>\n",
       "      <td>Aloha</td>\n",
       "      <td>OR</td>\n",
       "      <td>False</td>\n",
       "      <td>attack</td>\n",
       "      <td>Not fleeing</td>\n",
       "      <td>False</td>\n",
       "    </tr>\n",
       "    <tr>\n",
       "      <th>2</th>\n",
       "      <td>5</td>\n",
       "      <td>John Paul Quintero</td>\n",
       "      <td>03/01/15</td>\n",
       "      <td>shot and Tasered</td>\n",
       "      <td>unarmed</td>\n",
       "      <td>23.0</td>\n",
       "      <td>M</td>\n",
       "      <td>H</td>\n",
       "      <td>Wichita</td>\n",
       "      <td>KS</td>\n",
       "      <td>False</td>\n",
       "      <td>other</td>\n",
       "      <td>Not fleeing</td>\n",
       "      <td>False</td>\n",
       "    </tr>\n",
       "    <tr>\n",
       "      <th>3</th>\n",
       "      <td>8</td>\n",
       "      <td>Matthew Hoffman</td>\n",
       "      <td>04/01/15</td>\n",
       "      <td>shot</td>\n",
       "      <td>toy weapon</td>\n",
       "      <td>32.0</td>\n",
       "      <td>M</td>\n",
       "      <td>W</td>\n",
       "      <td>San Francisco</td>\n",
       "      <td>CA</td>\n",
       "      <td>True</td>\n",
       "      <td>attack</td>\n",
       "      <td>Not fleeing</td>\n",
       "      <td>False</td>\n",
       "    </tr>\n",
       "    <tr>\n",
       "      <th>4</th>\n",
       "      <td>9</td>\n",
       "      <td>Michael Rodriguez</td>\n",
       "      <td>04/01/15</td>\n",
       "      <td>shot</td>\n",
       "      <td>nail gun</td>\n",
       "      <td>39.0</td>\n",
       "      <td>M</td>\n",
       "      <td>H</td>\n",
       "      <td>Evans</td>\n",
       "      <td>CO</td>\n",
       "      <td>False</td>\n",
       "      <td>attack</td>\n",
       "      <td>Not fleeing</td>\n",
       "      <td>False</td>\n",
       "    </tr>\n",
       "  </tbody>\n",
       "</table>\n",
       "</div>"
      ],
      "text/plain": [
       "   id                name      date   manner_of_death       armed   age  \\\n",
       "0   3          Tim Elliot  02/01/15              shot         gun  53.0   \n",
       "1   4    Lewis Lee Lembke  02/01/15              shot         gun  47.0   \n",
       "2   5  John Paul Quintero  03/01/15  shot and Tasered     unarmed  23.0   \n",
       "3   8     Matthew Hoffman  04/01/15              shot  toy weapon  32.0   \n",
       "4   9   Michael Rodriguez  04/01/15              shot    nail gun  39.0   \n",
       "\n",
       "  gender race           city state  signs_of_mental_illness threat_level  \\\n",
       "0      M    A        Shelton    WA                     True       attack   \n",
       "1      M    W          Aloha    OR                    False       attack   \n",
       "2      M    H        Wichita    KS                    False        other   \n",
       "3      M    W  San Francisco    CA                     True       attack   \n",
       "4      M    H          Evans    CO                    False       attack   \n",
       "\n",
       "          flee  body_camera  \n",
       "0  Not fleeing        False  \n",
       "1  Not fleeing        False  \n",
       "2  Not fleeing        False  \n",
       "3  Not fleeing        False  \n",
       "4  Not fleeing        False  "
      ]
     },
     "execution_count": 3,
     "metadata": {},
     "output_type": "execute_result"
    }
   ],
   "source": [
    "pk.dropna(subset=['race'], inplace=True)\n",
    "pk.head()"
   ]
  },
  {
   "cell_type": "code",
   "execution_count": 6,
   "metadata": {},
   "outputs": [
    {
     "data": {
      "text/plain": [
       "(2340, 15)"
      ]
     },
     "execution_count": 6,
     "metadata": {},
     "output_type": "execute_result"
    }
   ],
   "source": [
    "pk.shape"
   ]
  },
  {
   "cell_type": "code",
   "execution_count": 283,
   "metadata": {},
   "outputs": [
    {
     "data": {
      "text/plain": [
       "W    1201\n",
       "B     618\n",
       "H     423\n",
       "A      39\n",
       "N      31\n",
       "O      28\n",
       "Name: race, dtype: int64"
      ]
     },
     "execution_count": 283,
     "metadata": {},
     "output_type": "execute_result"
    }
   ],
   "source": [
    "pk.race.value_counts(dropna=False)"
   ]
  },
  {
   "cell_type": "markdown",
   "metadata": {
    "id": "DRb2AH84-l5G"
   },
   "source": [
    "**INSTRUCTION-2: Demonstrate Race Ratio of Killed People by a Pie Chart (You can use Matplotlib)**"
   ]
  },
  {
   "cell_type": "code",
   "execution_count": 284,
   "metadata": {},
   "outputs": [
    {
     "data": {
      "text/plain": [
       "W    1201\n",
       "B     618\n",
       "H     423\n",
       "A      39\n",
       "N      31\n",
       "O      28\n",
       "Name: race, dtype: int64"
      ]
     },
     "execution_count": 284,
     "metadata": {},
     "output_type": "execute_result"
    }
   ],
   "source": [
    "race = pk.race.value_counts()\n",
    "race"
   ]
  },
  {
   "cell_type": "code",
   "execution_count": 285,
   "metadata": {},
   "outputs": [
    {
     "data": {
      "text/plain": [
       "Index(['W', 'B', 'H', 'A', 'N', 'O'], dtype='object')"
      ]
     },
     "execution_count": 285,
     "metadata": {},
     "output_type": "execute_result"
    }
   ],
   "source": [
    "race.index"
   ]
  },
  {
   "cell_type": "code",
   "execution_count": 286,
   "metadata": {},
   "outputs": [
    {
     "data": {
      "text/plain": [
       "array([1201,  618,  423,   39,   31,   28])"
      ]
     },
     "execution_count": 286,
     "metadata": {},
     "output_type": "execute_result"
    }
   ],
   "source": [
    "race.values"
   ]
  },
  {
   "cell_type": "code",
   "execution_count": 287,
   "metadata": {},
   "outputs": [
    {
     "data": {
      "image/png": "[encoded data removed]",
      "text/plain": [
       "<Figure size 1080x720 with 1 Axes>"
      ]
     },
     "metadata": {},
     "output_type": "display_data"
    }
   ],
   "source": [
    "plt.figure(figsize=(15,10))\n",
    "\n",
    "plt.pie(race.values, labels=race.index, autopct='%1.1f%%',explode = [0.1 , 0.1 , 0.1 , 0.1, 0.1, 0.1], shadow=True)\n",
    "\n",
    "plt.show()"
   ]
  },
  {
   "cell_type": "markdown",
   "metadata": {
    "id": "zOQ2PusO-G-U"
   },
   "source": [
    "## 6: Most common 15 Name or Surname of killed people "
   ]
  },
  {
   "cell_type": "code",
   "execution_count": 288,
   "metadata": {
    "_uuid": "bfb975b648fbcbd1c6cdf1634f01e01371924a8c",
    "colab": {
     "base_uri": "https://localhost:8080/",
     "height": 307
    },
    "executionInfo": {
     "elapsed": 45,
     "status": "ok",
     "timestamp": 1622926985762,
     "user": {
      "displayName": "Thomas Rico",
      "photoUrl": "",
      "userId": "03459133432310094050"
     },
     "user_tz": -180
    },
    "id": "7s9SsMsj-G-U",
    "outputId": "2d3cc676-d586-402c-cabd-938eb19880bf"
   },
   "outputs": [
    {
     "data": {
      "text/html": [
       "<div>\n",
       "<style scoped>\n",
       "    .dataframe tbody tr th:only-of-type {\n",
       "        vertical-align: middle;\n",
       "    }\n",
       "\n",
       "    .dataframe tbody tr th {\n",
       "        vertical-align: top;\n",
       "    }\n",
       "\n",
       "    .dataframe thead th {\n",
       "        text-align: right;\n",
       "    }\n",
       "</style>\n",
       "<table border=\"1\" class=\"dataframe\">\n",
       "  <thead>\n",
       "    <tr style=\"text-align: right;\">\n",
       "      <th></th>\n",
       "      <th>id</th>\n",
       "      <th>name</th>\n",
       "      <th>date</th>\n",
       "      <th>manner_of_death</th>\n",
       "      <th>armed</th>\n",
       "      <th>age</th>\n",
       "      <th>gender</th>\n",
       "      <th>race</th>\n",
       "      <th>city</th>\n",
       "      <th>state</th>\n",
       "      <th>signs_of_mental_illness</th>\n",
       "      <th>threat_level</th>\n",
       "      <th>flee</th>\n",
       "      <th>body_camera</th>\n",
       "      <th>age_cat</th>\n",
       "    </tr>\n",
       "  </thead>\n",
       "  <tbody>\n",
       "    <tr>\n",
       "      <th>0</th>\n",
       "      <td>3</td>\n",
       "      <td>Tim Elliot</td>\n",
       "      <td>02/01/15</td>\n",
       "      <td>shot</td>\n",
       "      <td>gun</td>\n",
       "      <td>53.0</td>\n",
       "      <td>M</td>\n",
       "      <td>A</td>\n",
       "      <td>Shelton</td>\n",
       "      <td>WA</td>\n",
       "      <td>True</td>\n",
       "      <td>attack</td>\n",
       "      <td>Not fleeing</td>\n",
       "      <td>False</td>\n",
       "      <td>above25</td>\n",
       "    </tr>\n",
       "    <tr>\n",
       "      <th>1</th>\n",
       "      <td>4</td>\n",
       "      <td>Lewis Lee Lembke</td>\n",
       "      <td>02/01/15</td>\n",
       "      <td>shot</td>\n",
       "      <td>gun</td>\n",
       "      <td>47.0</td>\n",
       "      <td>M</td>\n",
       "      <td>W</td>\n",
       "      <td>Aloha</td>\n",
       "      <td>OR</td>\n",
       "      <td>False</td>\n",
       "      <td>attack</td>\n",
       "      <td>Not fleeing</td>\n",
       "      <td>False</td>\n",
       "      <td>above25</td>\n",
       "    </tr>\n",
       "    <tr>\n",
       "      <th>2</th>\n",
       "      <td>5</td>\n",
       "      <td>John Paul Quintero</td>\n",
       "      <td>03/01/15</td>\n",
       "      <td>shot and Tasered</td>\n",
       "      <td>unarmed</td>\n",
       "      <td>23.0</td>\n",
       "      <td>M</td>\n",
       "      <td>H</td>\n",
       "      <td>Wichita</td>\n",
       "      <td>KS</td>\n",
       "      <td>False</td>\n",
       "      <td>other</td>\n",
       "      <td>Not fleeing</td>\n",
       "      <td>False</td>\n",
       "      <td>below25</td>\n",
       "    </tr>\n",
       "    <tr>\n",
       "      <th>3</th>\n",
       "      <td>8</td>\n",
       "      <td>Matthew Hoffman</td>\n",
       "      <td>04/01/15</td>\n",
       "      <td>shot</td>\n",
       "      <td>toy weapon</td>\n",
       "      <td>32.0</td>\n",
       "      <td>M</td>\n",
       "      <td>W</td>\n",
       "      <td>San Francisco</td>\n",
       "      <td>CA</td>\n",
       "      <td>True</td>\n",
       "      <td>attack</td>\n",
       "      <td>Not fleeing</td>\n",
       "      <td>False</td>\n",
       "      <td>above25</td>\n",
       "    </tr>\n",
       "    <tr>\n",
       "      <th>4</th>\n",
       "      <td>9</td>\n",
       "      <td>Michael Rodriguez</td>\n",
       "      <td>04/01/15</td>\n",
       "      <td>shot</td>\n",
       "      <td>nail gun</td>\n",
       "      <td>39.0</td>\n",
       "      <td>M</td>\n",
       "      <td>H</td>\n",
       "      <td>Evans</td>\n",
       "      <td>CO</td>\n",
       "      <td>False</td>\n",
       "      <td>attack</td>\n",
       "      <td>Not fleeing</td>\n",
       "      <td>False</td>\n",
       "      <td>above25</td>\n",
       "    </tr>\n",
       "  </tbody>\n",
       "</table>\n",
       "</div>"
      ],
      "text/plain": [
       "   id                name      date   manner_of_death       armed   age  \\\n",
       "0   3          Tim Elliot  02/01/15              shot         gun  53.0   \n",
       "1   4    Lewis Lee Lembke  02/01/15              shot         gun  47.0   \n",
       "2   5  John Paul Quintero  03/01/15  shot and Tasered     unarmed  23.0   \n",
       "3   8     Matthew Hoffman  04/01/15              shot  toy weapon  32.0   \n",
       "4   9   Michael Rodriguez  04/01/15              shot    nail gun  39.0   \n",
       "\n",
       "  gender race           city state  signs_of_mental_illness threat_level  \\\n",
       "0      M    A        Shelton    WA                     True       attack   \n",
       "1      M    W          Aloha    OR                    False       attack   \n",
       "2      M    H        Wichita    KS                    False        other   \n",
       "3      M    W  San Francisco    CA                     True       attack   \n",
       "4      M    H          Evans    CO                    False       attack   \n",
       "\n",
       "          flee  body_camera  age_cat  \n",
       "0  Not fleeing        False  above25  \n",
       "1  Not fleeing        False  above25  \n",
       "2  Not fleeing        False  below25  \n",
       "3  Not fleeing        False  above25  \n",
       "4  Not fleeing        False  above25  "
      ]
     },
     "execution_count": 288,
     "metadata": {},
     "output_type": "execute_result"
    }
   ],
   "source": [
    "pk.head()"
   ]
  },
  {
   "cell_type": "code",
   "execution_count": 289,
   "metadata": {
    "colab": {
     "base_uri": "https://localhost:8080/"
    },
    "executionInfo": {
     "elapsed": 45,
     "status": "ok",
     "timestamp": 1622926985763,
     "user": {
      "displayName": "Thomas Rico",
      "photoUrl": "",
      "userId": "03459133432310094050"
     },
     "user_tz": -180
    },
    "id": "R7idQSfR-G-V",
    "outputId": "617558e5-408e-4392-bf31-50db2d071323"
   },
   "outputs": [
    {
     "data": {
      "text/plain": [
       "(2340, 15)"
      ]
     },
     "execution_count": 289,
     "metadata": {},
     "output_type": "execute_result"
    }
   ],
   "source": [
    "pk.shape"
   ]
  },
  {
   "cell_type": "code",
   "execution_count": 290,
   "metadata": {},
   "outputs": [
    {
     "data": {
      "text/plain": [
       "TK TK                       5\n",
       "Daquan Antonio Westbrook    2\n",
       "Brandon Jones               2\n",
       "Eric Harris                 2\n",
       "Michael Johnson             2\n",
       "                           ..\n",
       "Floyd Ray Cook              1\n",
       "John Charles \"JC\" Graham    1\n",
       "Jesus Alberto Geney         1\n",
       "Jeffrey Kemp                1\n",
       "Jasen Scott Ramirez         1\n",
       "Name: name, Length: 2331, dtype: int64"
      ]
     },
     "execution_count": 290,
     "metadata": {},
     "output_type": "execute_result"
    }
   ],
   "source": [
    "pk.name.value_counts()"
   ]
  },
  {
   "cell_type": "code",
   "execution_count": 7,
   "metadata": {},
   "outputs": [
    {
     "data": {
      "text/plain": [
       "0"
      ]
     },
     "execution_count": 7,
     "metadata": {},
     "output_type": "execute_result"
    }
   ],
   "source": [
    "pk.name.isnull().sum()"
   ]
  },
  {
   "cell_type": "code",
   "execution_count": 8,
   "metadata": {},
   "outputs": [],
   "source": [
    "pk = pk[pk.name != 'TK TK']"
   ]
  },
  {
   "cell_type": "code",
   "execution_count": 9,
   "metadata": {},
   "outputs": [
    {
     "data": {
      "text/plain": [
       "Michael Brown               2\n",
       "Daquan Antonio Westbrook    2\n",
       "Brandon Jones               2\n",
       "Michael Johnson             2\n",
       "Eric Harris                 2\n",
       "                           ..\n",
       "Bruce Steward               1\n",
       "James Smillie               1\n",
       "Eduardo Hernandez           1\n",
       "Robert Lee Brown            1\n",
       "Marion Lee Holliday         1\n",
       "Name: name, Length: 2330, dtype: int64"
      ]
     },
     "execution_count": 9,
     "metadata": {},
     "output_type": "execute_result"
    }
   ],
   "source": [
    "pk.name.value_counts()"
   ]
  },
  {
   "cell_type": "code",
   "execution_count": 11,
   "metadata": {},
   "outputs": [
    {
     "data": {
      "text/plain": [
       "(2335, 15)"
      ]
     },
     "execution_count": 11,
     "metadata": {},
     "output_type": "execute_result"
    }
   ],
   "source": [
    "pk.shape"
   ]
  },
  {
   "cell_type": "code",
   "execution_count": 14,
   "metadata": {},
   "outputs": [],
   "source": [
    "names = pk.name.str.split(' ')"
   ]
  },
  {
   "cell_type": "code",
   "execution_count": 15,
   "metadata": {},
   "outputs": [
    {
     "data": {
      "text/plain": [
       "0                [Tim, Elliot]\n",
       "1         [Lewis, Lee, Lembke]\n",
       "2       [John, Paul, Quintero]\n",
       "3           [Matthew, Hoffman]\n",
       "4         [Michael, Rodriguez]\n",
       "                 ...          \n",
       "2523     [Kesharn, K., Burney]\n",
       "2525       [Deltra, Henderson]\n",
       "2528     [Alejandro, Alvarado]\n",
       "2533          [Isaiah, Tucker]\n",
       "2534           [Dwayne, Jeune]\n",
       "Name: name, Length: 2335, dtype: object"
      ]
     },
     "execution_count": 15,
     "metadata": {},
     "output_type": "execute_result"
    }
   ],
   "source": [
    "names"
   ]
  },
  {
   "cell_type": "code",
   "execution_count": 17,
   "metadata": {},
   "outputs": [
    {
     "data": {
      "text/plain": [
       "('Tim',\n",
       " 'Lewis',\n",
       " 'John',\n",
       " 'Matthew',\n",
       " 'Michael',\n",
       " 'Kenneth',\n",
       " 'Kenneth',\n",
       " 'Brock',\n",
       " 'Autumn',\n",
       " 'Leslie',\n",
       " 'Patrick',\n",
       " 'Ron',\n",
       " 'Hashim',\n",
       " 'Nicholas',\n",
       " 'Omarr',\n",
       " 'Loren',\n",
       " 'James',\n",
       " 'Artago',\n",
       " 'Thomas',\n",
       " 'Jimmy',\n",
       " 'Andy',\n",
       " 'Tommy',\n",
       " 'Brian',\n",
       " 'Salvador',\n",
       " 'John',\n",
       " 'Richard',\n",
       " 'Marcus',\n",
       " 'Michael',\n",
       " 'Mario',\n",
       " 'Talbot',\n",
       " 'Robert',\n",
       " 'Jeffrey',\n",
       " 'Donte',\n",
       " 'Kavonda',\n",
       " 'Quincy',\n",
       " 'Jose',\n",
       " 'Nathan',\n",
       " 'Scott',\n",
       " 'Zaki',\n",
       " 'Terence',\n",
       " 'Pablo',\n",
       " 'Daniel',\n",
       " 'Jonathan',\n",
       " 'Carter',\n",
       " 'Paul',\n",
       " 'Dewayne',\n",
       " 'Todd',\n",
       " 'Miguel',\n",
       " 'Isaac',\n",
       " 'Andrew',\n",
       " 'Tiano',\n",
       " 'Kristiana',\n",
       " 'Robert',\n",
       " 'Demaris',\n",
       " 'Jose',\n",
       " 'Wendell',\n",
       " 'Daryl',\n",
       " 'Darin',\n",
       " 'Orlando',\n",
       " 'Jessie',\n",
       " 'Raymond',\n",
       " 'Joshua',\n",
       " 'David',\n",
       " 'Nicolas',\n",
       " 'Chris',\n",
       " 'Jermonte',\n",
       " 'Tiffany',\n",
       " 'Alan',\n",
       " 'Matautu',\n",
       " 'Cody',\n",
       " 'Ralph',\n",
       " 'Alan',\n",
       " 'John',\n",
       " 'Victor',\n",
       " 'Edward',\n",
       " 'Jacob',\n",
       " 'David',\n",
       " 'Francis',\n",
       " 'Ledarius',\n",
       " 'Yuvette',\n",
       " 'Dewayne',\n",
       " 'Anthony',\n",
       " 'Jeremy',\n",
       " 'Izzy',\n",
       " 'Salvador',\n",
       " 'Joaquin',\n",
       " 'Jimmy',\n",
       " 'Markell',\n",
       " 'Paul',\n",
       " 'Herbert',\n",
       " 'John',\n",
       " 'James',\n",
       " 'John',\n",
       " 'Sawyer',\n",
       " 'Vincent',\n",
       " 'Joseph',\n",
       " 'Larry',\n",
       " 'Kenneth',\n",
       " 'Desmond',\n",
       " 'Antonio',\n",
       " 'Anthony',\n",
       " 'Brian',\n",
       " 'Phillip',\n",
       " 'Fletcher',\n",
       " 'Jonathan',\n",
       " 'Andres',\n",
       " 'Richard',\n",
       " 'Matthew',\n",
       " 'Daniel',\n",
       " 'Jason',\n",
       " 'Roy',\n",
       " 'Lavall',\n",
       " 'Howard',\n",
       " 'Bruce',\n",
       " 'Lawrence',\n",
       " 'Michael',\n",
       " 'Cody',\n",
       " 'Betty',\n",
       " 'Michael',\n",
       " 'Matthew',\n",
       " 'Douglas',\n",
       " 'Pedro',\n",
       " 'Janisha',\n",
       " 'Alejandro',\n",
       " 'Ruben',\n",
       " 'Stanley',\n",
       " 'Douglas',\n",
       " 'Jason',\n",
       " 'Kent',\n",
       " 'Bradford',\n",
       " 'Jerome',\n",
       " 'Daniel',\n",
       " 'Robert',\n",
       " 'Michael',\n",
       " 'Anthony',\n",
       " \"A'Donte\",\n",
       " 'Joseph',\n",
       " 'Glenn',\n",
       " 'Francis',\n",
       " 'Alexander',\n",
       " 'David',\n",
       " 'Amilcar',\n",
       " 'Rodney',\n",
       " 'Crystal',\n",
       " 'Ernesto',\n",
       " 'Chazsten',\n",
       " 'Deven',\n",
       " 'Thomas',\n",
       " 'Jessica',\n",
       " 'Cornelius',\n",
       " 'Ian',\n",
       " 'Stephanie',\n",
       " 'Donald',\n",
       " 'Charly',\n",
       " 'Hung',\n",
       " 'Shaquille',\n",
       " 'Fednel',\n",
       " 'Matthew',\n",
       " 'Derek',\n",
       " 'Carl',\n",
       " 'Tyrone',\n",
       " 'Sergio',\n",
       " 'Tyson',\n",
       " 'Naeschylus',\n",
       " 'Andrew',\n",
       " 'Tony',\n",
       " 'Adam',\n",
       " 'Aurelio',\n",
       " 'Michael',\n",
       " 'Monique',\n",
       " 'Lester',\n",
       " 'James',\n",
       " 'Cedrick',\n",
       " 'Anthony',\n",
       " 'Jamie',\n",
       " 'Christopher',\n",
       " 'Edixon',\n",
       " 'Theodore',\n",
       " 'James',\n",
       " 'Benito',\n",
       " 'Ryan',\n",
       " 'Aaron',\n",
       " 'Gilbert',\n",
       " 'William',\n",
       " 'Terry',\n",
       " 'Bobby',\n",
       " 'Fred',\n",
       " 'Andrew',\n",
       " 'Antonio',\n",
       " 'James',\n",
       " 'Richard',\n",
       " 'Clifton',\n",
       " 'Aaron',\n",
       " 'Troy',\n",
       " 'Justin',\n",
       " 'William',\n",
       " 'Eugene',\n",
       " 'Roberto',\n",
       " 'Andrew',\n",
       " 'Declan',\n",
       " 'Alice',\n",
       " 'Jeff',\n",
       " 'Kaylene',\n",
       " 'Garland',\n",
       " 'Kendre',\n",
       " 'Jamison',\n",
       " 'Robert',\n",
       " 'Shane',\n",
       " 'Brandon',\n",
       " 'Brandon',\n",
       " 'Justin',\n",
       " 'Richard',\n",
       " 'Tyrel',\n",
       " 'James',\n",
       " 'Gary',\n",
       " 'Jason',\n",
       " 'Enoch',\n",
       " 'Phillip',\n",
       " 'Christopher',\n",
       " 'Denzel',\n",
       " 'Devin',\n",
       " 'Stephen',\n",
       " 'Walter',\n",
       " 'Scott',\n",
       " 'Nicholas',\n",
       " 'Jeremy',\n",
       " 'Victor',\n",
       " 'Joseph',\n",
       " 'Deanne',\n",
       " 'Adrian',\n",
       " 'Gary',\n",
       " 'Jamalis',\n",
       " 'Adrian',\n",
       " 'Neil',\n",
       " 'Megan',\n",
       " 'Harvey',\n",
       " 'Angelo',\n",
       " 'Robert',\n",
       " 'Byron',\n",
       " 'Brian',\n",
       " 'Jeremy',\n",
       " 'Benjamin',\n",
       " 'Mya',\n",
       " 'Robert',\n",
       " 'Shawn',\n",
       " 'Darrin',\n",
       " 'Donald',\n",
       " 'Eric',\n",
       " 'Aaron',\n",
       " 'Christopher',\n",
       " 'Justus',\n",
       " 'Walter',\n",
       " 'Paul',\n",
       " 'Ethan',\n",
       " 'Ken',\n",
       " 'Richard',\n",
       " 'Alexander',\n",
       " 'Desmond',\n",
       " 'Tyrell',\n",
       " 'Erick',\n",
       " 'Douglas',\n",
       " 'Dexter',\n",
       " 'Roberto',\n",
       " 'Joseph',\n",
       " 'Gordon',\n",
       " 'Don',\n",
       " 'Jess',\n",
       " 'Phillip',\n",
       " 'Angel',\n",
       " 'Richard',\n",
       " 'Donald',\n",
       " 'Mack',\n",
       " 'Richard',\n",
       " 'Jason',\n",
       " 'Isaac',\n",
       " 'Colby',\n",
       " 'Christopher',\n",
       " 'Tevin',\n",
       " 'Dante',\n",
       " 'Frank',\n",
       " 'Mark',\n",
       " 'Stanley',\n",
       " 'Ernesto',\n",
       " 'Rodolfo',\n",
       " 'Jeffrey',\n",
       " 'Elias',\n",
       " 'Thaddeus',\n",
       " 'Erik',\n",
       " 'Grover',\n",
       " 'Michael',\n",
       " 'Dana',\n",
       " 'Santos',\n",
       " 'Daniel',\n",
       " 'Daniel',\n",
       " 'Kimber',\n",
       " 'Luis',\n",
       " 'William',\n",
       " 'Carlos',\n",
       " 'Jonathan',\n",
       " 'Reginald',\n",
       " 'Lue',\n",
       " 'Andrew',\n",
       " 'Joseph',\n",
       " 'Hector',\n",
       " 'Karen',\n",
       " 'Mark',\n",
       " 'Gary',\n",
       " 'Todd',\n",
       " 'Brandon',\n",
       " 'David',\n",
       " 'Daniel',\n",
       " 'Billy',\n",
       " 'Albert',\n",
       " 'Dean',\n",
       " 'Terrance',\n",
       " 'David',\n",
       " 'Jared',\n",
       " 'Joshua',\n",
       " 'Andrew',\n",
       " 'Joshua',\n",
       " 'Luis',\n",
       " 'Alexia',\n",
       " 'Jeffrey',\n",
       " 'John',\n",
       " 'Fridoon',\n",
       " 'Erick',\n",
       " 'Kenneth',\n",
       " 'Kevin',\n",
       " 'Elton',\n",
       " 'Nadir',\n",
       " 'Billy',\n",
       " 'Michael',\n",
       " 'Roark',\n",
       " 'Brendon',\n",
       " 'Thong',\n",
       " 'Robert',\n",
       " 'David',\n",
       " 'Michael',\n",
       " 'Nephi',\n",
       " 'Shaun',\n",
       " 'David',\n",
       " 'Dedrick',\n",
       " 'Sam',\n",
       " 'Stephen',\n",
       " 'Lionel',\n",
       " 'Kelvin',\n",
       " 'Justin',\n",
       " \"D'Angelo\",\n",
       " 'Bruce',\n",
       " 'Alec',\n",
       " 'Sean',\n",
       " 'Cary',\n",
       " 'Mark',\n",
       " 'Matt',\n",
       " 'Ronell',\n",
       " 'Dennis',\n",
       " 'Austin',\n",
       " 'Timothy',\n",
       " 'Alfredo',\n",
       " 'Jonathan',\n",
       " 'David',\n",
       " 'Anthony',\n",
       " 'Jonathan',\n",
       " 'Chrislon',\n",
       " 'Nikki',\n",
       " 'Marcus',\n",
       " 'David',\n",
       " 'Javoris',\n",
       " 'James',\n",
       " 'Elvin',\n",
       " 'Jerome',\n",
       " 'Michael',\n",
       " 'Caso',\n",
       " 'James',\n",
       " 'Eric',\n",
       " 'Cassandra',\n",
       " 'Anthony',\n",
       " 'Millard',\n",
       " 'Dalton',\n",
       " 'Jessie',\n",
       " 'Scott',\n",
       " 'Garrett',\n",
       " 'Harry',\n",
       " 'Feras',\n",
       " 'Simon',\n",
       " 'Darrell',\n",
       " 'James',\n",
       " 'Kenneth',\n",
       " 'Kyle',\n",
       " 'Kevin',\n",
       " 'Nehemiah',\n",
       " 'Robert',\n",
       " 'Ebin',\n",
       " 'Alexander',\n",
       " 'James',\n",
       " 'Joseph',\n",
       " 'Usaamah',\n",
       " 'Kamal',\n",
       " 'Lorenzo',\n",
       " 'Rudy',\n",
       " 'Miguel',\n",
       " 'Edelmiro',\n",
       " 'Ronald',\n",
       " 'Jesus',\n",
       " 'Christie',\n",
       " 'Demouria',\n",
       " 'James',\n",
       " 'Alejandro',\n",
       " 'Joe',\n",
       " 'Damien',\n",
       " 'Matthew',\n",
       " 'Gene',\n",
       " 'Rene',\n",
       " 'Richard',\n",
       " 'Jeremy',\n",
       " 'Greg',\n",
       " 'QuanDavier',\n",
       " 'Ryan',\n",
       " 'Isiah',\n",
       " 'Charles',\n",
       " 'Fritz',\n",
       " 'Mark',\n",
       " 'Raymond',\n",
       " 'Shelly',\n",
       " 'Anthony',\n",
       " 'Deng',\n",
       " 'James',\n",
       " 'Kenneth',\n",
       " 'Zane',\n",
       " 'Kris',\n",
       " 'Christopher',\n",
       " 'Joe',\n",
       " 'Wendy',\n",
       " 'Kenneth',\n",
       " 'Oleg',\n",
       " 'Santos',\n",
       " 'Trepierre',\n",
       " 'Louis',\n",
       " 'Alfontish',\n",
       " 'Adrian',\n",
       " 'Charles',\n",
       " 'James',\n",
       " 'Eduardo',\n",
       " 'Tyler',\n",
       " 'Tyrone',\n",
       " 'Joshua',\n",
       " 'Jonathan',\n",
       " 'Randall',\n",
       " 'Taylor',\n",
       " 'Damien',\n",
       " 'Spencer',\n",
       " 'Gilbert',\n",
       " 'Richard',\n",
       " 'Joe',\n",
       " 'Joshua',\n",
       " 'Alan',\n",
       " 'Richard',\n",
       " 'Clay',\n",
       " 'Kevin',\n",
       " 'Kaleb',\n",
       " 'Douglas',\n",
       " 'Ton',\n",
       " 'Victor',\n",
       " 'Cesar',\n",
       " 'Arturo',\n",
       " 'Oscar',\n",
       " 'Joseph',\n",
       " 'Robert',\n",
       " 'Michael',\n",
       " 'Kawanza',\n",
       " 'Bryan',\n",
       " 'John',\n",
       " 'Michael',\n",
       " 'Richard',\n",
       " 'Johnny',\n",
       " 'Tyler',\n",
       " 'Hagen',\n",
       " 'David',\n",
       " 'John',\n",
       " 'Jason',\n",
       " 'Marcellus',\n",
       " 'Adam',\n",
       " 'Joe',\n",
       " 'Daniel',\n",
       " 'Jose',\n",
       " 'Tremaine',\n",
       " 'Nicholas',\n",
       " 'Joshua',\n",
       " 'Michael',\n",
       " 'Dallas',\n",
       " 'Rocco',\n",
       " 'Robert',\n",
       " 'Martice',\n",
       " 'Cyrus',\n",
       " 'Neil',\n",
       " 'Javon',\n",
       " 'James',\n",
       " 'Freddie',\n",
       " 'Eugene',\n",
       " 'Billy',\n",
       " 'Paul',\n",
       " 'Salvado',\n",
       " 'David',\n",
       " 'Matthew',\n",
       " 'Christopher',\n",
       " 'Frederick',\n",
       " 'Matthew',\n",
       " 'Rafael',\n",
       " 'Jason',\n",
       " 'Chacarion',\n",
       " 'Eugene',\n",
       " 'Anthonie',\n",
       " 'Antonio',\n",
       " 'Edward',\n",
       " 'Patrick',\n",
       " 'Mohammad',\n",
       " 'Saige',\n",
       " 'Pierre',\n",
       " 'Samuel',\n",
       " 'Albert',\n",
       " 'Jackie',\n",
       " 'Darrius',\n",
       " 'Jose',\n",
       " 'David',\n",
       " 'Kevin',\n",
       " 'Charles',\n",
       " 'Samuel',\n",
       " 'Joshua',\n",
       " 'Darren',\n",
       " 'Joseph',\n",
       " 'Jerrod',\n",
       " 'Francisco',\n",
       " 'Andre',\n",
       " 'Devon',\n",
       " 'Dontae',\n",
       " 'Derek',\n",
       " 'Brian',\n",
       " 'Robbie',\n",
       " 'Tamala',\n",
       " 'Seth',\n",
       " 'Lee',\n",
       " 'Christopher',\n",
       " 'Roger',\n",
       " 'Bryan',\n",
       " 'Earl',\n",
       " 'Khari',\n",
       " 'Zachary',\n",
       " 'Timothy',\n",
       " 'Jean',\n",
       " 'Samuel',\n",
       " 'Michael',\n",
       " 'Roger',\n",
       " 'Mark',\n",
       " 'Ryan',\n",
       " 'Philip',\n",
       " 'Oscar',\n",
       " 'Rafael',\n",
       " 'Jeremy',\n",
       " 'Armando',\n",
       " 'Virgil',\n",
       " 'Antonio',\n",
       " 'Joshua',\n",
       " 'Franklin',\n",
       " 'Shawn',\n",
       " 'Daniel',\n",
       " 'Darius',\n",
       " 'Tyler',\n",
       " 'John',\n",
       " 'Raymond',\n",
       " 'Keshawn',\n",
       " 'Vincente',\n",
       " 'Jason',\n",
       " 'Gustavo',\n",
       " 'Charles',\n",
       " 'Christian',\n",
       " 'Abel',\n",
       " 'Aaron',\n",
       " 'Mark',\n",
       " 'Tsombe',\n",
       " 'Derrick',\n",
       " 'Shamir',\n",
       " 'Jeffrey',\n",
       " 'Kevin',\n",
       " 'Andre',\n",
       " 'Eric',\n",
       " 'Edrian',\n",
       " 'Richard',\n",
       " 'Casey',\n",
       " 'Randall',\n",
       " 'Richard',\n",
       " 'Nathaniel',\n",
       " 'Redel',\n",
       " 'Anthony',\n",
       " 'Reginald',\n",
       " 'William',\n",
       " 'Garland',\n",
       " 'Hector',\n",
       " 'Asshams',\n",
       " 'Christopher',\n",
       " 'John',\n",
       " 'Allen',\n",
       " 'Benjamin',\n",
       " 'Jonathon',\n",
       " 'Matthew',\n",
       " 'Steven',\n",
       " 'Frederick',\n",
       " 'Richard',\n",
       " 'Mansur',\n",
       " 'Deviere',\n",
       " 'Jason',\n",
       " 'Wade',\n",
       " 'Tyler',\n",
       " 'Jeffory',\n",
       " 'Raul',\n",
       " 'Timmy',\n",
       " 'Charles',\n",
       " 'Alan',\n",
       " 'Adam',\n",
       " 'Thaddeus',\n",
       " 'Jason',\n",
       " 'Nicholas',\n",
       " 'Kenneth',\n",
       " 'Richard',\n",
       " 'Christopher',\n",
       " 'Julian',\n",
       " 'Bobby',\n",
       " 'William',\n",
       " 'Marvin',\n",
       " 'Curtis',\n",
       " 'Todd',\n",
       " 'Shane',\n",
       " 'Marvin',\n",
       " 'Steven',\n",
       " 'Brent',\n",
       " 'Kyle',\n",
       " 'Bertrand',\n",
       " 'Yonas',\n",
       " 'Robert',\n",
       " 'Manuel',\n",
       " 'Gilbert',\n",
       " 'William',\n",
       " 'Felix',\n",
       " 'Devin',\n",
       " 'James',\n",
       " 'Roger',\n",
       " 'Rafael',\n",
       " 'Shawn',\n",
       " 'David',\n",
       " 'William',\n",
       " 'Cedric',\n",
       " 'Charles',\n",
       " 'Michael',\n",
       " 'Arthur',\n",
       " 'Freddy',\n",
       " 'Curtis',\n",
       " 'Jose',\n",
       " 'Richard',\n",
       " 'Sully',\n",
       " 'Harrison',\n",
       " \"La'vante\",\n",
       " 'Luis',\n",
       " 'Angelo',\n",
       " 'India',\n",
       " 'Carlos',\n",
       " 'Mohamed',\n",
       " 'William',\n",
       " 'Casimero',\n",
       " 'Tristan',\n",
       " 'Dustin',\n",
       " 'Tyrone',\n",
       " 'Vincent',\n",
       " 'William',\n",
       " 'Tian',\n",
       " 'Brandon',\n",
       " '',\n",
       " 'Eddie',\n",
       " 'Robert',\n",
       " 'Phillip',\n",
       " 'Derick',\n",
       " 'Jack',\n",
       " 'Martin',\n",
       " 'Clifford',\n",
       " 'Jeffrey',\n",
       " 'Joseph',\n",
       " 'David',\n",
       " 'Tyrone',\n",
       " 'Florencio',\n",
       " 'Jorge',\n",
       " 'Carlos',\n",
       " 'Bobby',\n",
       " 'Rory',\n",
       " 'Mark',\n",
       " 'Lawrence',\n",
       " 'Nicholas',\n",
       " 'Gregory',\n",
       " 'Lucien',\n",
       " 'Scott',\n",
       " 'Michael',\n",
       " 'Jerrald',\n",
       " 'Gerardo',\n",
       " 'William',\n",
       " 'Tina',\n",
       " 'Steven',\n",
       " 'Timothy',\n",
       " 'Dominic',\n",
       " 'Dante',\n",
       " 'Joel',\n",
       " 'Tim',\n",
       " 'Robert',\n",
       " 'Joseph',\n",
       " 'Keith',\n",
       " 'Kenneth',\n",
       " 'Jeremy',\n",
       " 'Ernesto',\n",
       " 'Patrick',\n",
       " 'Philip',\n",
       " 'William',\n",
       " 'James',\n",
       " 'Jeffrey',\n",
       " 'Anthony',\n",
       " 'Alejandro',\n",
       " 'Norma',\n",
       " 'Christopher',\n",
       " 'Victor',\n",
       " 'Junior',\n",
       " 'Alberto',\n",
       " 'Patrick',\n",
       " 'Robert',\n",
       " 'Brandon',\n",
       " 'David',\n",
       " 'Christian',\n",
       " 'Phyllis',\n",
       " 'Matthew',\n",
       " 'Eric',\n",
       " 'Jeffery',\n",
       " 'James',\n",
       " 'Rodney',\n",
       " 'Omar',\n",
       " 'Charles',\n",
       " 'Amado',\n",
       " 'Gary',\n",
       " 'Christopher',\n",
       " 'Richard',\n",
       " 'William',\n",
       " 'Travis',\n",
       " 'Anthony',\n",
       " 'Joe',\n",
       " 'Kevin',\n",
       " 'Bernard',\n",
       " 'Robert',\n",
       " 'Jason',\n",
       " 'Rudolph',\n",
       " 'Brent',\n",
       " 'Michelle',\n",
       " 'Samuel',\n",
       " 'Leslie',\n",
       " 'Jorge',\n",
       " 'Kaleb',\n",
       " 'Linda',\n",
       " 'Michael',\n",
       " 'Robert',\n",
       " 'Herbert',\n",
       " 'Martin',\n",
       " 'Johnny',\n",
       " 'Ricky',\n",
       " 'Gino',\n",
       " 'Dequan',\n",
       " 'Corey',\n",
       " 'Krikor',\n",
       " 'Dion',\n",
       " 'Roger',\n",
       " 'Lamontez',\n",
       " 'Joel',\n",
       " 'Darien',\n",
       " 'Jonathan',\n",
       " 'Miguel',\n",
       " 'Ryan',\n",
       " 'Timothy',\n",
       " 'Lawrence',\n",
       " 'Adriene',\n",
       " 'Stephen',\n",
       " 'Juan',\n",
       " 'Rolly',\n",
       " 'Dominic',\n",
       " 'Arthur',\n",
       " 'Darren',\n",
       " 'Jon',\n",
       " 'John',\n",
       " 'Kevin',\n",
       " 'Marquesha',\n",
       " 'Kobvey',\n",
       " 'Tyrie',\n",
       " 'Anthony',\n",
       " 'Ricky',\n",
       " 'Jerry',\n",
       " 'Jasper',\n",
       " 'Deaunte',\n",
       " 'Allen',\n",
       " 'Floyd',\n",
       " 'Mario',\n",
       " 'Tony',\n",
       " 'Daniel',\n",
       " 'Noah',\n",
       " 'Bennie',\n",
       " 'Luverne',\n",
       " 'Killian',\n",
       " 'Jack',\n",
       " 'James',\n",
       " 'Jeremy',\n",
       " 'Joseph',\n",
       " 'John',\n",
       " 'Faisal',\n",
       " 'Timothy',\n",
       " 'David',\n",
       " 'James',\n",
       " 'Jacob',\n",
       " 'Laura',\n",
       " 'Michael',\n",
       " 'James',\n",
       " 'Kim',\n",
       " 'Delvin',\n",
       " 'Cesar',\n",
       " 'Dale',\n",
       " 'Leonel',\n",
       " 'Miguel',\n",
       " 'Dana',\n",
       " 'Eddie',\n",
       " 'Jason',\n",
       " 'Andrew',\n",
       " 'Joseph',\n",
       " 'Javier',\n",
       " 'Brian',\n",
       " 'Ryan',\n",
       " 'Moises',\n",
       " 'Michael',\n",
       " 'Ernesto',\n",
       " 'Matthew',\n",
       " 'Ramon',\n",
       " 'Richard',\n",
       " 'John',\n",
       " 'Shane',\n",
       " 'Jamar',\n",
       " 'Cameron',\n",
       " 'Brent',\n",
       " 'Michael',\n",
       " 'Yohans',\n",
       " 'Demetrius',\n",
       " 'Jeray',\n",
       " 'Derry',\n",
       " 'Francis',\n",
       " 'Cornelius',\n",
       " 'Marcus',\n",
       " 'Randy',\n",
       " 'Steve',\n",
       " 'Darick',\n",
       " 'William',\n",
       " 'Nathaniel',\n",
       " 'Chris',\n",
       " 'James',\n",
       " 'Matthew',\n",
       " 'Miguel',\n",
       " 'Henry',\n",
       " 'Barry',\n",
       " 'Michael',\n",
       " 'Thomas',\n",
       " 'Freddy',\n",
       " 'Magnum',\n",
       " 'Douglas',\n",
       " 'Somer',\n",
       " 'Andrew',\n",
       " 'Rick',\n",
       " 'Kevin',\n",
       " 'Justin',\n",
       " 'Lionel',\n",
       " 'Ralph',\n",
       " 'Hugo',\n",
       " 'Zachary',\n",
       " 'Tuan',\n",
       " 'Darius',\n",
       " 'Fernando',\n",
       " 'Joshua',\n",
       " 'John',\n",
       " 'Phillip',\n",
       " 'Tashfeen',\n",
       " 'Syed',\n",
       " 'Mario',\n",
       " 'Allen',\n",
       " 'Florencio',\n",
       " 'Neil',\n",
       " 'Ivan',\n",
       " 'Raymone',\n",
       " 'Colten',\n",
       " 'David',\n",
       " 'Michael',\n",
       " 'Sheilah',\n",
       " 'Juan',\n",
       " 'Raymond',\n",
       " 'Carlumandarlo',\n",
       " 'John',\n",
       " 'Miguel',\n",
       " 'Derek',\n",
       " 'Christopher',\n",
       " 'Jason',\n",
       " 'Charles',\n",
       " 'Thomas',\n",
       " 'Steven',\n",
       " 'Christopher',\n",
       " 'Javario',\n",
       " 'Nicholas',\n",
       " 'Jonathan',\n",
       " 'Andrew',\n",
       " 'Roy',\n",
       " 'Shirley',\n",
       " 'Ryan',\n",
       " 'Nephi',\n",
       " 'Enrique',\n",
       " 'Calvin',\n",
       " 'Jeffrey',\n",
       " 'Michael',\n",
       " 'Brenda',\n",
       " 'Mharloun',\n",
       " 'Hector',\n",
       " 'Roberto',\n",
       " 'Mark',\n",
       " 'Ronnie',\n",
       " 'Bryant',\n",
       " 'Douglas',\n",
       " 'Christopher',\n",
       " 'Erica',\n",
       " 'Amos',\n",
       " 'Robert',\n",
       " 'Trayvon',\n",
       " 'Ruben',\n",
       " 'Leroy',\n",
       " 'Mark',\n",
       " 'Guadalupe',\n",
       " 'Bobby',\n",
       " 'Michael',\n",
       " 'Derek',\n",
       " 'Robert',\n",
       " 'Chan',\n",
       " 'Brandon',\n",
       " 'Kenneth',\n",
       " 'Michael',\n",
       " 'Jose',\n",
       " 'Kevin',\n",
       " 'Schuylar',\n",
       " 'Terrozza',\n",
       " 'Omar',\n",
       " 'Daquan',\n",
       " 'William',\n",
       " 'Lonnie',\n",
       " 'Bettie',\n",
       " 'Quintonio',\n",
       " 'Gilbert',\n",
       " 'Michael',\n",
       " 'Sean',\n",
       " 'Gayneaux',\n",
       " 'Corey',\n",
       " 'Siolosega',\n",
       " 'Tien',\n",
       " 'Fred',\n",
       " 'Keith',\n",
       " 'Joshua',\n",
       " 'Sean',\n",
       " 'Lance',\n",
       " 'Lonnie',\n",
       " 'Germonta',\n",
       " 'Eric',\n",
       " 'Rodney',\n",
       " 'Joel',\n",
       " 'James',\n",
       " 'Carlton',\n",
       " 'Stephen',\n",
       " 'Albert',\n",
       " 'David',\n",
       " 'Charles',\n",
       " 'Alan',\n",
       " 'Kenneth',\n",
       " 'Eric',\n",
       " 'Andrew',\n",
       " 'David',\n",
       " 'Christine',\n",
       " 'Alan',\n",
       " 'Robert',\n",
       " 'Ramone',\n",
       " 'Ciara',\n",
       " 'Herman',\n",
       " 'Keith',\n",
       " 'Brandon',\n",
       " 'Timothy',\n",
       " 'Willie',\n",
       " 'Miguel',\n",
       " 'William',\n",
       " 'Rakeem',\n",
       " 'Alfred',\n",
       " 'Ashton',\n",
       " 'Adam',\n",
       " 'Kelsey',\n",
       " 'Clarence',\n",
       " ...)"
      ]
     },
     "execution_count": 17,
     "metadata": {},
     "output_type": "execute_result"
    }
   ],
   "source": [
    "a,b = zip(*names)\n",
    "name_list = a+b\n",
    "name_list"
   ]
  },
  {
   "cell_type": "code",
   "execution_count": 27,
   "metadata": {},
   "outputs": [
    {
     "data": {
      "text/plain": [
       "[('Michael', 83),\n",
       " ('David', 54),\n",
       " ('James', 49),\n",
       " ('Robert', 44),\n",
       " ('Joseph', 43),\n",
       " ('William', 42),\n",
       " ('Daniel', 41),\n",
       " ('John', 37),\n",
       " ('Christopher', 37),\n",
       " ('Lee', 36),\n",
       " ('Richard', 33),\n",
       " ('', 33),\n",
       " ('J.', 30),\n",
       " ('Joshua', 28),\n",
       " ('Jose', 26)]"
      ]
     },
     "execution_count": 27,
     "metadata": {},
     "output_type": "execute_result"
    }
   ],
   "source": [
    "name_count = Counter(name_list)         \n",
    "most_common_names = name_count.most_common(15)\n",
    "most_common_names"
   ]
  },
  {
   "cell_type": "code",
   "execution_count": 28,
   "metadata": {},
   "outputs": [
    {
     "data": {
      "text/plain": [
       "tuple"
      ]
     },
     "execution_count": 28,
     "metadata": {},
     "output_type": "execute_result"
    }
   ],
   "source": [
    "# we need to get rid of empty names (' ')\n",
    "type(name_list)"
   ]
  },
  {
   "cell_type": "code",
   "execution_count": 25,
   "metadata": {},
   "outputs": [],
   "source": [
    "name_list2=list(name_list)"
   ]
  },
  {
   "cell_type": "code",
   "execution_count": 29,
   "metadata": {},
   "outputs": [
    {
     "data": {
      "text/plain": [
       "list"
      ]
     },
     "execution_count": 29,
     "metadata": {},
     "output_type": "execute_result"
    }
   ],
   "source": [
    "type(name_list2)"
   ]
  },
  {
   "cell_type": "code",
   "execution_count": 42,
   "metadata": {},
   "outputs": [
    {
     "data": {
      "text/plain": [
       "30"
      ]
     },
     "execution_count": 42,
     "metadata": {},
     "output_type": "execute_result"
    }
   ],
   "source": [
    "name_list2.count('')"
   ]
  },
  {
   "cell_type": "code",
   "execution_count": 46,
   "metadata": {},
   "outputs": [],
   "source": [
    "name_list2.remove('')\n",
    "name_list2[:] = (value for value in name_list2 if value != '')"
   ]
  },
  {
   "cell_type": "code",
   "execution_count": 47,
   "metadata": {},
   "outputs": [
    {
     "data": {
      "text/plain": [
       "0"
      ]
     },
     "execution_count": 47,
     "metadata": {},
     "output_type": "execute_result"
    }
   ],
   "source": [
    "name_list2.count('')"
   ]
  },
  {
   "cell_type": "code",
   "execution_count": 48,
   "metadata": {},
   "outputs": [
    {
     "data": {
      "text/plain": [
       "[('Michael', 83),\n",
       " ('David', 54),\n",
       " ('James', 49),\n",
       " ('Robert', 44),\n",
       " ('Joseph', 43),\n",
       " ('William', 42),\n",
       " ('Daniel', 41),\n",
       " ('John', 37),\n",
       " ('Christopher', 37),\n",
       " ('Lee', 36),\n",
       " ('Richard', 33),\n",
       " ('J.', 30),\n",
       " ('Joshua', 28),\n",
       " ('Jose', 26),\n",
       " ('Anthony', 26)]"
      ]
     },
     "execution_count": 48,
     "metadata": {},
     "output_type": "execute_result"
    }
   ],
   "source": [
    "name_count = Counter(name_list2)         \n",
    "most_common_names = name_count.most_common(15)\n",
    "most_common_names"
   ]
  },
  {
   "cell_type": "code",
   "execution_count": 23,
   "metadata": {},
   "outputs": [
    {
     "data": {
      "text/plain": [
       "collections.Counter"
      ]
     },
     "execution_count": 23,
     "metadata": {},
     "output_type": "execute_result"
    }
   ],
   "source": [
    "type(name_count)"
   ]
  },
  {
   "cell_type": "code",
   "execution_count": 61,
   "metadata": {},
   "outputs": [
    {
     "data": {
      "image/png": "[encoded data removed]",
      "text/plain": [
       "<Figure size 1080x720 with 1 Axes>"
      ]
     },
     "metadata": {
      "needs_background": "light"
     },
     "output_type": "display_data"
    }
   ],
   "source": [
    "x,y = zip(*most_common_names)\n",
    "x,y = list(x),list(y)\n",
    "\n",
    "plt.figure(figsize=(15,10))\n",
    "ax= sns.barplot(x=x, y=y, palette = 'colorblind')\n",
    "\n",
    "plt.xlabel('Name or Surname of killed people')\n",
    "plt.ylabel('Frequency')\n",
    "plt.title('Most common 15 Name or Surname of killed people')\n",
    "\n",
    "plt.show()"
   ]
  },
  {
   "cell_type": "markdown",
   "metadata": {
    "id": "SDeKoDA3-G-W"
   },
   "source": [
    "**INSTRUCTION : Plot Most common 15 Name OR Surname of killed people** "
   ]
  },
  {
   "cell_type": "raw",
   "metadata": {
    "id": "GDrfQsvl-G-W"
   },
   "source": [
    "### Clue 1: You need to separate the names and surnames because we are asking most common name OR surname.\n",
    "\n",
    "### Clue 2 :After seperation make a whole list that contains both names and surnames.\n",
    "\n",
    "### Clue 3 : How to separate the name and surname pairs?\n",
    "\n",
    ">>> pairs = [(1, 'a'), (2, 'b'), (3, 'c'), (4, 'd')]\n",
    ">>> numbers, letters = zip(*pairs)\n",
    ">>> numbers\n",
    "(1, 2, 3, 4)\n",
    ">>> letters\n",
    "('a', 'b', 'c', 'd')\n",
    "\n",
    "### Clue 4: You can use Counter() and most_common() built in functions together to find the most common names or surnames, or you can write your own functions for this purpose."
   ]
  },
  {
   "cell_type": "markdown",
   "metadata": {
    "id": "enYjZO9j5Cn9"
   },
   "source": [
    "shape"
   ]
  }
 ],
 "metadata": {
  "colab": {
   "collapsed_sections": [],
   "name": "Assignment-1 student.ipynb",
   "provenance": [],
   "toc_visible": true
  },
  "kernelspec": {
   "display_name": "Python 3",
   "language": "python",
   "name": "python3"
  },
  "language_info": {
   "codemirror_mode": {
    "name": "ipython",
    "version": 3
   },
   "file_extension": ".py",
   "mimetype": "text/x-python",
   "name": "python",
   "nbconvert_exporter": "python",
   "pygments_lexer": "ipython3",
   "version": "3.8.5"
  }
 },
 "nbformat": 4,
 "nbformat_minor": 1
}
